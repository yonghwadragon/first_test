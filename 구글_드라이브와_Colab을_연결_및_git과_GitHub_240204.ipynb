{
  "nbformat": 4,
  "nbformat_minor": 0,
  "metadata": {
    "colab": {
      "provenance": [],
      "collapsed_sections": [
        "SvQT2zZEoJXK",
        "WgIazPFmqT4r",
        "cwLtRGE3ToYx",
        "gNM6mTd9bAgf",
        "DYbcgkK5eefP",
        "v9vSA1VFrcwX",
        "g4QUJrb-vhqN",
        "rxuEOfS9UvKo",
        "pepo-RFkpO-H"
      ],
      "authorship_tag": "ABX9TyN/XI+dZOWY9Jrsukb5N6ea",
      "include_colab_link": true
    },
    "kernelspec": {
      "name": "python3",
      "display_name": "Python 3"
    },
    "language_info": {
      "name": "python"
    }
  },
  "cells": [
    {
      "cell_type": "markdown",
      "metadata": {
        "id": "view-in-github",
        "colab_type": "text"
      },
      "source": [
        "<a href=\"https://colab.research.google.com/github/yonghwadragon/first_test/blob/main/%EA%B5%AC%EA%B8%80_%EB%93%9C%EB%9D%BC%EC%9D%B4%EB%B8%8C%EC%99%80_Colab%EC%9D%84_%EC%97%B0%EA%B2%B0_%EB%B0%8F_git%EA%B3%BC_GitHub_240204.ipynb\" target=\"_parent\"><img src=\"https://colab.research.google.com/assets/colab-badge.svg\" alt=\"Open In Colab\"/></a>"
      ]
    },
    {
      "cell_type": "markdown",
      "source": [
        "# ㄱ. 구글 드라이브와 Colab을 연결\n",
        "\n"
      ],
      "metadata": {
        "id": "SvQT2zZEoJXK"
      }
    },
    {
      "cell_type": "markdown",
      "source": [
        " Colab 환경에서 '/content/drive' 경로를 통해 Google 드라이브에 접근 가능\\\n",
        "마운트된 드라이브를 통해 Colab에서는 구글 드라이브에 저장된 파일들을 읽거나 쓸 수 있음"
      ],
      "metadata": {
        "id": "xUmSNQlzTglm"
      }
    },
    {
      "cell_type": "code",
      "execution_count": null,
      "metadata": {
        "id": "ojdaEH-Ghc8G",
        "colab": {
          "base_uri": "https://localhost:8080/"
        },
        "outputId": "3621c757-b81a-46ae-ba64-11a4a2302f7d"
      },
      "outputs": [
        {
          "output_type": "stream",
          "name": "stdout",
          "text": [
            "Mounted at /content/drive\n"
          ]
        }
      ],
      "source": [
        "from google.colab import drive # google.colab 모듈에서 drive라는 기능을 가져옵니다. 이 모듈은 Google Colab에서 사용되는 다양한 기능들을 포함\n",
        "drive.mount('/content/drive') # drive 모듈의 mount 함수를 사용하여 Colab과 Google 드라이브를 연결, 드라이브의 루트 디렉토리를 Colab의 /content/drive 경로에 마운트"
      ]
    },
    {
      "cell_type": "markdown",
      "source": [
        "# ㄴ. git과 GitHub 및 협업하기\n",
        "---"
      ],
      "metadata": {
        "id": "WgIazPFmqT4r"
      }
    },
    {
      "cell_type": "markdown",
      "source": [
        "<center>\n",
        "\n",
        "git :내 컴퓨터(로컬)에 있는 것\n",
        "\n",
        "GitHub : 내 컴퓨터(로컬)에 있는 것을 보관하는 곳\n",
        "\n",
        " cf) push라는 명령어를 통해 git을 GitHub에 올릴 수 있음\n",
        "\n",
        "</center>\n",
        "\n",
        "\n"
      ],
      "metadata": {
        "id": "fU7FUT5QxBQi"
      }
    },
    {
      "cell_type": "markdown",
      "source": [
        "## ㄱ) <font size=\"5\"><b>새롭게 나올 용어:</b></font>"
      ],
      "metadata": {
        "id": "eCsJ2XD4sYyo"
      }
    },
    {
      "cell_type": "markdown",
      "source": [
        "<center>\n",
        "\n",
        "<font size=\"4\"><b>용어</b></font> | <font size=\"4\"><b>의미</b></font>\n",
        "---       | ---\n",
        "<font size=\"4\">1. fork</font> | <font size=\"4\">포크를 찍어서 가져오기</font>\n",
        "<font size=\"4\">2. upstream</font> | <font size=\"4\">(상류)원본위치</font>\n",
        "<font size=\"4\">3. pull</font> | <font size=\"4\">(차이만)땡겨옴</font>\n",
        "<font size=\"4\">4. pull request(PR)</font> | <font size=\"4\">수정사항 보내기</font>\n",
        "<font size=\"4\">5. conflict</font> | <font size=\"4\">충돌</font>\n",
        "<font size=\"4\">6. merge</font> | <font size=\"4\">합치기</font>\n",
        "\n",
        "</center>"
      ],
      "metadata": {
        "id": "Bk8Z25QAGXRE"
      }
    },
    {
      "cell_type": "markdown",
      "source": [
        "## ㄴ)구조\n",
        "기본 셋팅 -------> 반복 작업"
      ],
      "metadata": {
        "id": "hqgDa38dyH1T"
      }
    },
    {
      "cell_type": "markdown",
      "source": [
        "### Ep.1 기본 셋팅"
      ],
      "metadata": {
        "id": "R1F8tQk2y9bt"
      }
    },
    {
      "cell_type": "markdown",
      "source": [
        "#### 1) 기본 셋팅\n",
        "<font color=\"red\" size=\"5\">팀장</font> : <font color=\"yellow\">로컬에서 프로젝트 기본 셋팅 ----> GitHub 레포지토리 업로드</font> \\\n",
        "<font color=\"green\" size=\"5\">팀원</font> :<font color=\"red\" size=\"5\">팀장</font> 레포를 <font color=\"#87CEEB\" >**for**k</font> 해옴 ----> <font color=\"#87CEEB\">**fork**</font> 해온 것 <font color=\"#87CEEB\">본인 로컬에 clone</font> ----> 로컬에 돌아가 세팅 후 확인"
      ],
      "metadata": {
        "id": "U6-WIt-XGA8l"
      }
    },
    {
      "cell_type": "markdown",
      "source": [
        "### Ep2. 팀원이 만든 코드 합치기 (반복작업)\n",
        "\n",
        "\n"
      ],
      "metadata": {
        "id": "XPPfD1FF2hwb"
      }
    },
    {
      "cell_type": "markdown",
      "source": [
        "#### 1) <font color=\"yellow\">**Pull Request(PR)**</font> 보낼 때 <font color=\"green\">**Able to Merge**</font>일 경우\n",
        "<font color=\"blue\" size=\"5\">[ ]</font>은 GitHub 구간 \\\n",
        "<font color=\"green\" size=\"5\">팀원</font> : 로컬에서 코드 수정 ----> fork 떠온 <font color=\"#87CEEB\">본인 레포</font>에 <font color=\"#87CEEB\">**push**</font> ----> <font color=\"blue\" size=\"5\">[</font><font color=\"red\" size=\"5\">팀장</font> 레포의 브랜치에 <font color=\"yellow\">**Pull Reques(PR)**</font> 보냄 ----> <font color=\"green\">**Able to Merge**</font> (충돌나는 것이 없음을 의미)<font color=\"blue\" size=\"5\">]</font> \\\n",
        "<font color=\"blue\" size=\"5\">[</font><font color=\"red\" size=\"5\">팀장</font> : <font color=\"yellow\">**Merge 진행**</font><font color=\"blue\" size=\"5\">]</font>"
      ],
      "metadata": {
        "id": "DGtOVuoxAtSr"
      }
    },
    {
      "cell_type": "markdown",
      "source": [
        "#### 2) <font color=\"yellow\">**Pull Request(PR)**</font> 보낼 때 <font color=\"green\">**Able to Merge**</font> 가 아닌 <font color=\"red\">Conflict</font>(can't automatically merge)일 경우\n",
        "<font color=\"green\" size=\"5\">팀원</font> : <font color=\"red\">Conflict</font> ----> (팀장이나 다른 팀원의) 로컬에 Pull ----> conflict 전부 해결, 수정 ----> <font color=\"#87CEEB\">본인 레포나 브랜치</font>에 다시 <font color=\"#87CEEB\">**push**</font> ----> </font><font color=\"red\" size=\"5\">팀장</font> 레포의 지정 브랜치에 <font color=\"yellow\">**Pull Request(PR)**</font> 보냄 ----> <font color=\"green\">**Able to Merge**</font>\\\n",
        "<font color=\"red\" size=\"5\">팀장</font> : <font color=\"yellow\">**Merge 진행**</font>"
      ],
      "metadata": {
        "id": "7ZYhMvGq_eRA"
      }
    },
    {
      "cell_type": "markdown",
      "source": [
        "### Ep3. 여러 명과 협업하기"
      ],
      "metadata": {
        "id": "MS65BmexFuyg"
      }
    },
    {
      "cell_type": "markdown",
      "source": [
        "가정 : <font color=\"red\" size=\"5\">팀장</font> 한명에 <font color=\"#008080\">팀원 1</font>, <font color=\"#00FF00\">팀원 2</font>, <font color=\"darkviolet\">팀원 3</font> 이 있고 각자 브랜치에 <font color=\"orange\">push</font> 해둔 상황 \\\n",
        "<font color=\"#008080\">1</font> : <font color=\"#008080\">팀원 1</font> 로컬에서 <font color=\"orange\">팀장 브랜치</font>를 다시 <font color=\"#87CEEB\">pull</font> ----> <font color=\"red\">conflict</font>를 로컬에서 직접 해결 ----> <font color=\"red\" size=\"5\">팀장</font>에게 <font color=\"deepskyblue\">PR</font> 보내기 \\\n",
        "<font color=\"#00FF00\">2</font> : <font color=\"#00FF00\">팀원 2</font> 로컬에서 <font color=\"orange\">1과 합쳐진 팀장 브랜치</font>를 다시 <font color=\"#87CEEB\">pull</font> ----> <font color=\"red\">conflict</font>를 로컬에서 직접 해결 ----> <font color=\"red\" size=\"5\">팀장</font>에게 <font color=\"deepskyblue\">PR</font> 보내기 \\\n",
        "<font color=\"darkviolet\">3</font> : <font color=\"darkviolet\">팀원 3</font> 로컬에서 <font color=\"orange\">1,2와 합쳐진 팀장 브랜치</font>를 다시 <font color=\"#87CEEB\">pull</font> ----> <font color=\"red\">conflict</font>를 로컬에서 직접 해결 ----> <font color=\"red\" size=\"5\">팀장</font>에게 <font color=\"deepskyblue\">PR</font> 보내기 \\\n"
      ],
      "metadata": {
        "id": "cxxNstxaF1P8"
      }
    },
    {
      "cell_type": "markdown",
      "source": [
        "# ㄷ. VS Code와 Git bash, Sourcetree"
      ],
      "metadata": {
        "id": "cwLtRGE3ToYx"
      }
    },
    {
      "cell_type": "markdown",
      "source": [
        "## ㄱ) VS Code"
      ],
      "metadata": {
        "id": "3_xcu-Nbd3mu"
      }
    },
    {
      "cell_type": "markdown",
      "source": [
        "가장 인기있는 코드 에디터 중 하나 \\\n",
        "통합 개발 환경(IDE) \\\n",
        "다양한 프로그래밍 언어를 지원하며, 강력한 확장성과 사용자 정의 기능을 제공 \\\n",
        "cf) Ctrl + ` 하면 터미널 열 수 있음\n",
        "\n",
        "1. 다양한 언어 지원: JavaScript, Python, Java, C++, HTML, CSS 등 다양한 프로그래밍 언어를 지원합니다 \\\n",
        "\n",
        "2. 확장성: 다양한 확장을 통해 사용자 정의 기능을 추가할 수 있습니다. 확장은 커뮤니티에 의해 제공되며, 사용자의 개발 환경을 확장하고 향상시킬 수 있습니다 \\\n",
        "\n",
        "3. 통합 터미널: 개발자가 코드를 작성하면서 바로 터미널을 사용하여 명령어를 실행할 수 있습니다 \\\n",
        "\n",
        "4. Git 통합: Git을 내장하고 있어 코드 버전 관리가 용이합니다 \\\n",
        "\n",
        "5. 자동 완성 및 코드 분석: 코드 작성 시 자동 완성 기능과 실시간으로 코드를 분석하여 오류를 감지합니다 \\\n",
        "\n",
        "6. 디버깅 기능: 코드 디버깅을 지원하여 버그를 찾고 해결하는 데 도움이 됩니다"
      ],
      "metadata": {
        "id": "AgIp_bqPeoTi"
      }
    },
    {
      "cell_type": "markdown",
      "source": [
        "### 1) VS Code의 기본 터미널을 Git Bash로 설정"
      ],
      "metadata": {
        "id": "0uvVdny6hDEt"
      }
    },
    {
      "cell_type": "markdown",
      "source": [
        "Git뿐 아니라 다른 프로그래밍작업에 있어서도 유용 \\\n",
        "1. VS Code에서 Ctrl + Shift + p 혹은 위에 검색\n",
        "2. select Default Profile 검색하여 선택\n",
        "3. Git Bash 선택\n",
        "4. 터미널에서 +로 새 탕을 열어서 기본으로 Git Bash가 설정된 것 확인"
      ],
      "metadata": {
        "id": "Y6FmJ0lshc8W"
      }
    },
    {
      "cell_type": "markdown",
      "source": [
        "## ㄴ) Git bash (CLI 툴)"
      ],
      "metadata": {
        "id": "gNM6mTd9bAgf"
      }
    },
    {
      "cell_type": "markdown",
      "source": [
        "Git을 텍스트 기반의 명령어 인터페이스(Command Line Interface, CLI)로 다룰 수 있도록 해주는 툴 \\\n",
        "GUI(Graphical User Interface)로 다룰 수 있도록 해주는 툴과 대조 \\\n",
        "\n",
        "아래 명령어를 입력하여 잘 설치되었는지 확인하자 \\\n",
        "git --version : git 버젼 확인.  \\\n"
      ],
      "metadata": {
        "id": "xxq6vjvvk5Fw"
      }
    },
    {
      "cell_type": "markdown",
      "source": [
        "## ㄷ) Sourcetree  (GUI 툴)"
      ],
      "metadata": {
        "id": "DYbcgkK5eefP"
      }
    },
    {
      "cell_type": "markdown",
      "source": [
        "Git을 GUI(Graphical User Interface)로 다룰 수 있도록 해주는 툴 \\\n",
        "텍스트 기반의 명령어 인터페이스(Command Line Interface, CLI)와 대조 \\\n",
        "사용자가 그래픽 요소를 통해 소프트웨어와 상호 작용하는 방식 \\\n",
        "GUI에서는 창, 아이콘, 버튼 등 시각적인 구성 요소를 사용하여 사용자와 컴퓨터 간의 상호 작용을 지원"
      ],
      "metadata": {
        "id": "CV1BidH9m0SH"
      }
    },
    {
      "cell_type": "markdown",
      "source": [
        "# 1. Git 최초 설정"
      ],
      "metadata": {
        "id": "ABiZXgPuqzsf"
      }
    },
    {
      "cell_type": "markdown",
      "source": [
        "## 1) Git 전역으로 사용자 이름과 이메일 주소를 설정   \n",
        "cf) GitHub 계정과는 별개"
      ],
      "metadata": {
        "id": "v9vSA1VFrcwX"
      }
    },
    {
      "cell_type": "markdown",
      "source": [
        "1. git config --global user.name \"(본인 이름)\" \\\n",
        "2. git config --glibal user.email \"(본인 이메일)\" \\\n",
        "cf) 프로젝트마다 다르게 설정할 수 도 있다 \\\n",
        "\n",
        "아래의 명령어들로 확인\n",
        "1. git config --global user.name\n",
        "2. git config --glibal user.email"
      ],
      "metadata": {
        "id": "ca34FdvTrdlO"
      }
    },
    {
      "cell_type": "markdown",
      "source": [
        "## 2) 기본 브랜치명 변경\n"
      ],
      "metadata": {
        "id": "g4QUJrb-vhqN"
      }
    },
    {
      "cell_type": "markdown",
      "source": [
        "1. git config --global init.defaultBranch main"
      ],
      "metadata": {
        "id": "trQ5AtSevni1"
      }
    },
    {
      "cell_type": "markdown",
      "source": [
        "# 2. 프로젝트 생성 & Git 관리 시작 (기본 명령어)"
      ],
      "metadata": {
        "id": "rxuEOfS9UvKo"
      }
    },
    {
      "cell_type": "markdown",
      "source": [
        "적당한 위치에 원하는 이름의 폴더를 생성 후 VS code로 열람 \\\n",
        "해당 폴더에서 아래 명령어를 입력 \\\n",
        "1. git init : 작업 폴더에서 git 쓰고 싶으면 git init 부터 입력 \\\n",
        "---> (폴더에 숨김모드로 .git 확인)  \n",
        " * 폴더를 지우면 Git 관리 내역이 삭제가 되므로 삭제 하면 안됨. (현 파일들은 유지)\n",
        "\n",
        "2. git status : 상태창 열기 (어떤 파일을 스테이징 해놨는지, 어떤 파일이 수정이 됬는지 확인) \\\n",
        "\n",
        "3. Git의 관리에서 특정 파일/폴더를 배제해야 할 경우(.gitignore)\n",
        "\n",
        "\n",
        "  *   포함할 필요가 없을 때\n",
        "  \n",
        "    *   자동으로 생성 또는 다운로드되는 파일들 (빌드 결과물, 라이브러리)\n",
        "\n",
        "  *   포함하지 말아야 할 때\n",
        "\n",
        "    *   보안상 민감한 정보를 담은 파일\n",
        "\n",
        "  3-1. .gitignore 형식 (https://git-scm.com/docs/gitignore 참조)\n",
        "    *   file.c : 모든 file.c   \n",
        "    *   /file.c : 최상위 폴더의 file.c\n",
        "    *   *.c : 모든 .c 확장자 파일\n",
        "    *   !not_ignore_this.c : .c 확장자지만 무시하지 않을 파일\n",
        "    *   logs : logs란 이름의 파일 또는 폴더와 그 내용들\n",
        "    *   logs/ : logs란 이름의 폴더와 그 내용들\n",
        "    *   logs/debug.log \\ : logs 폴더 바로 안의 debug.log와 .\n",
        "    *   logs/*.c : logs 폴더 바로 안의 .c 파일들\n",
        "    *   logs/**debug.log : logs 폴더 바로 안, 또는 그 안의 다른 폴더(들) 안의 debug.log\n",
        "\n",
        "4. git add 파일 : 파일 하나 스테이징, 파일, 커밋될 준비 \\\n",
        "git add 파일1 파일2 ... : 여러 파일 스테이징하기, 파일들 커밋될 준비 \\\n",
        "git add . : 모든 파일 스테이징하기, 모든 파일 커밋될 준비\\\n",
        "git commit : 스테이징 영역에 있는 변경 내용을 저장소에 영구적으로 기록(VIM모드를 통해 마우스 없이 코드 입력 알아두면 좋음)(커밋 메세지 작성 해야함) \\\n",
        "git status : 상태창 열기 (어떤 파일을 스테이징 해놨는지, 어떤 파일이 수정이 됬는지 확인) \\\n",
        "git log : commit 내역 조회 \\\n",
        "git log --all --oneline : 모든 브랜치의 커밋 히스토리를 한 줄씩 간단하게 표시하는 명령어 \\\n",
        "\n",
        "5. git diff : 저장소에 있는 변경 사항을 보여주는 데 사용 \\\n",
        "  cf) J로 내리고 K로 올릴 수 있음, :q이면 다시 명렁어 입력 가능 :는 있음 \\\n",
        "\n",
        "6. git commit -m \"메모\" : 스테이징 영역에 있는 변경 내용을 저장소에 영구적으로 기록, 이름 바로 정할 수 있음 \\\n",
        "\n",
        "가정 : 파일 만든 후 코드를 작성한 상황 \\\n",
        "git add 파일명 : 특정 파일을 현재 상태를 백업이나 기록 해두고 싶을 때 사용 \\\n",
        "git commit -m '메모' : 메모에다 기록 가능 일반적으로 날짜, 시간이나 추가 기능이 있을때 사용할 것 같음 \\\n",
        "\n",
        "가정 : 위의 코드에 추가적으로 작성한 상황 \\\n",
        "git add 파일명 \\\n",
        "git commit -m '메모' \\\n",
        "\n",
        "정리 \\\n",
        "작업 폴더가 많음 --(스테이징 한다)--> git add를 통해 기록을 남기고 싶은 파일을 고를 수 있음 (Staging area)----> git commit 을 이용해 기록 저장소에 옮길 수 있음(Repository)(저장소) \\\n",
        "\n",
        "git add & commit 동시에 해주는 명령어도 있음 나중에 보자. 처음부터 개꿀빨지말아라 \\\n",
        "\n",
        "7. git commit -am \"(메세지)\" : add와 commit 한꺼번에 하기. 단, 새로 추가된(untracked) 파일이 없을 때 한정\n",
        "\n",
        "\n",
        "\n",
        "\n",
        "\n",
        "\n",
        "\n"
      ],
      "metadata": {
        "id": "BPdU9bOewX6Y"
      }
    },
    {
      "cell_type": "markdown",
      "source": [
        "## 1) 위의 Git 명령어 요약\n",
        "\n",
        "1. **git init**: 작업 폴더를 Git 저장소로 초기화합니다.\n",
        "    - 폴더 내부에 `.git` 폴더가 생성되며, Git 저장소의 모든 정보가 여기에 저장됩니다.\n",
        "\n",
        "2. **git status**: 현재 작업 디렉토리의 상태를 확인합니다.\n",
        "    - 어떤 파일이 변경되었는지, 어떤 파일이 스테이징 영역에 있는지 등을 확인할 수 있습니다.\n",
        "\n",
        "3. **.gitignore 파일 작성**: Git으로 관리하지 않을 파일이나 폴더를 .gitignore 파일에 명시합니다.\n",
        "    - 자동으로 생성되거나 다운로드되는 파일, 보안상 민감한 정보를 담은 파일 등을 배제할 때 사용됩니다.\n",
        "\n",
        "    - `.gitignore` 형식은 다음과 같습니다. (https://git-scm.com/docs/gitignore 참조)\n",
        "        * `file.c`: 모든 `file.c`\n",
        "        * `/file.c`: 최상위 폴더의 `file.c`\n",
        "        * `*.c`: 모든 `.c` 확장자 파일\n",
        "        * `!not_ignore_this.c`: `.c` 확장자지만 무시하지 않을 파일\n",
        "        * `logs`: `logs`란 이름의 파일 또는 폴더와 그 내용들\n",
        "        * `logs/`: `logs`란 이름의 폴더와 그 내용들\n",
        "        * `logs/debug.log`: `logs` 폴더 바로 안의 `debug.log`와 .\n",
        "        * `logs/*.c`: `logs` 폴더 바로 안의 `.c` 파일들\n",
        "        * `logs/**debug.log`: `logs` 폴더 바로 안, 또는 그 안의 다른 폴더(들) 안의 `debug.log`\n",
        "\n",
        "4. **git add 파일**: 파일을 스테이징 영역에 추가합니다.\n",
        "    - 변경 내용을 커밋할 준비를 합니다.\n",
        "\n",
        "5. **git commit**: 스테이징 영역에 있는 변경 내용을 저장소에 영구적으로 기록합니다.\n",
        "    - 커밋 메시지를 작성하여 변경 사항을 설명합니다.\n",
        "\n",
        "6. **git log**: 저장소의 커밋 히스토리를 조회합니다.\n",
        "    - 이전 커밋들의 정보를 확인할 수 있습니다.\n",
        "\n",
        "7. **git diff**: 현재 작업 디렉토리와 스테이징 영역 또는 이전 커밋과의 차이를 보여줍니다.\n",
        "    - 코드 변경 사항을 확인하거나 디버깅할 때 유용합니다.\n",
        "\n",
        "8. **git commit -m \"메모\"**: 변경 내용을 커밋할 때 커밋 메시지를 함께 작성할 수 있습니다.\n",
        "    - 변경 내용과 함께 메시지를 한 번에 커밋할 수 있습니다.\n",
        "\n",
        "### 작업 폴더 관리\n",
        "\n",
        "- 작업 폴더가 많을 때:\n",
        "    1. 변경 사항을 스테이징합니다 (Staging area).\n",
        "    2. 변경 사항을 저장소에 옮깁니다 (Repository).\n",
        "\n",
        "- **git add & commit 동시에** 해주는 명령어도 있습니다.\n",
        "    - 이를 사용하면 처음부터 끝까지 한 번에 처리할 수 있습니다.\n",
        "\n",
        "    - **git commit -am \"(메세지)\"**: add와 commit을 한 번에 처리합니다.\n",
        "        - 단, 새로 추가된(untracked) 파일이 없을 때 사용 가능합니다.\n"
      ],
      "metadata": {
        "id": "ioYEwajHorQL"
      }
    },
    {
      "cell_type": "markdown",
      "source": [
        "# 3. 프로젝트를 과거로 돌아가는 두 가지 방법 Reset과 Revert"
      ],
      "metadata": {
        "id": "pepo-RFkpO-H"
      }
    },
    {
      "cell_type": "markdown",
      "source": [
        "## 1) Git Reset vs. Revert\n",
        "\n",
        "- **Reset**: 과거로 돌아가 히스토리에서 변경 내용을 제거합니다.\n",
        "- **Revert**: 과거로 돌아가는 것이 아니라, 거꾸로 변경 내용을 되돌리는 새로운 커밋을 생성하여 그 결과를 반영합니다. 원래의 커밋 히스토리를 유지할 수 있어서 더 좋은 방법입니다.\n",
        "\n",
        "### 주요 명령어\n",
        "\n",
        "- **git log**: 커밋 히스토리를 확인합니다.\n",
        "- **git reset --hard [커밋 해시]**: 해당 커밋으로 히스토리를 되돌립니다.\n",
        "    - 예시: `git reset --hard f57f67934ea01b291012e0f642d1b7cce0abce0b`\n",
        "\n",
        "- **git revert [커밋 해시]**: 해당 커밋의 변경 사항을 되돌린 새로운 커밋을 생성합니다.\n",
        "    - 예시: `git revert f57f67934ea01b291012e0f642d1b7cce0abce0b` \\\n",
        "    주의사항으로 충돌이 일어나는 경우가 있음 `git rm 파일`으로 파일 지우고 `git revert --continue`으로 계속 진행\n",
        "- **git revert --no-commit [커밋 해시]**: 해당 커밋의 변경 사항을 되돌렸지만 커밋은 되지 않음\n",
        "### 주의 사항\n",
        "\n",
        "- **백업**: .git 폴더는 백업을 해두는 것이 좋습니다.\n",
        "- **새로운 파일**: 백업 복구 후에 `git reset --hard`를 실행하면 reset하기 전 시점으로 복원됩니다. 하지만 새로 생성된 파일은 새로 만들어진 것으로 인식됩니다. \\\n",
        "\n",
        "### cf)위의 작업들은 소스트리로도 가능하다\n"
      ],
      "metadata": {
        "id": "i0-d_1EKpZ6b"
      }
    },
    {
      "cell_type": "markdown",
      "source": [
        "# 4. 여러 branch 만들어보기"
      ],
      "metadata": {
        "id": "GDSixyGlC6-q"
      }
    },
    {
      "cell_type": "markdown",
      "source": [
        "## 1) Branch (분기)\n",
        "\n",
        "Branch는 프로젝트를 다양한 모습으로 관리할 수 있게 해주는 개념입니다. 주로 다음과 같은 상황에서 사용됩니다:\n",
        "\n",
        "- **프로젝트를 다양한 환경으로 관리할 때**: 예를 들어, 실제 배포용, 테스트 서버용, 혹은 새로운 시도를 위한 브랜치를 생성하여 각각의 환경에 맞게 작업할 수 있습니다.\n",
        "\n",
        "- **여러 작업을 병렬로 진행할 때**: 프로젝트 내에서 여러 작업이 각각 독립적으로 진행될 때, 각각의 작업을 다른 브랜치에서 관리할 수 있습니다. 예를 들어, 신기능 1, 신기능 2, 코드 개선, 긴급 수정 등의 작업을 각각의 브랜치에서 수행할 수 있습니다.\n",
        "\n",
        "이러한 브랜치를 활용하여 각각의 차원에서 작업을 진행한 후에, 확정된 내용을 메인 브랜치에 통합하여 하나의 프로젝트 폴더에서 모든 작업을 관리할 수 있습니다.\n"
      ],
      "metadata": {
        "id": "Hs4h9J1NEkub"
      }
    },
    {
      "cell_type": "markdown",
      "source": [
        "## 2) 브랜치 생성, 이동, 삭제\n",
        "\n",
        "### 브랜치 생성\n",
        "\n",
        "- `git branch add-coach`: add-coach라는 이름의 브랜치를 생성합니다.\n",
        "\n",
        "### 브랜치 목록 확인\n",
        "\n",
        "- `git branch`: 현재 저장소에 있는 브랜치 목록을 확인합니다.\n",
        "\n",
        "### 브랜치 이동\n",
        "\n",
        "- `git switch add-coach`: add-coach 브랜치로 이동합니다.\n",
        "  - 참고: Git 2.23 버전부터는 checkout 명령어가 switch와 restore로 분리되었습니다.\n",
        "\n",
        "### 브랜치 생성과 동시에 이동\n",
        "\n",
        "- `git switch -c new-teams`: new-teams 브랜치를 생성하고 이동합니다.\n",
        "  - 참고: 이전에는 `git checkout -b [새 브랜치명]`으로 사용되었습니다.\n",
        "\n",
        "### 브랜치 삭제\n",
        "\n",
        "- `git branch -d [삭제할 브랜치명]`: 지정한 브랜치를 삭제합니다.\n",
        "  - 참고: 지울 브랜치에 다른 브랜치로 적용되지 않은 내용의 커밋이 있을 시에는 -D(대문자) 옵션으로 강제 삭제합니다. ex) git brnach -D (브랜치명)\n",
        "\n",
        "### 브랜치 이름 바꾸기\n",
        "\n",
        "- `git branch -m [기존 브랜치명] [새 브랜치명]`: 기존 브랜치의 이름을 새로운 이름으로 변경합니다.\n",
        "\n"
      ],
      "metadata": {
        "id": "5tPchhCEIER0"
      }
    }
  ]
}